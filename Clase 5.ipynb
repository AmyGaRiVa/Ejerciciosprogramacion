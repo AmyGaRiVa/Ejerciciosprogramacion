{
 "cells": [
  {
   "cell_type": "markdown",
   "id": "11f2bd08-8e3f-48fa-8746-118f0943dcdf",
   "metadata": {},
   "source": [
    "# Clase 5\n",
    "\n",
    "**Primeros scriptis**\n",
    "\n",
    "Vamos a definir en una celda tres variables, una que contenga mi nombre, otra que contenga mi edad y otra que muestre el porcentaje de la semana que utilizo para mi curso de programacion."
   ]
  },
  {
   "cell_type": "markdown",
   "id": "fd2e2482-b9ea-46ca-be72-4a834e24d836",
   "metadata": {},
   "source": [
    "# Métododo `Format` para cadenas\n",
    "\n",
    "Veamos como podemos crear formatos en textos:"
   ]
  },
  {
   "cell_type": "code",
   "execution_count": 1,
   "id": "eea117ae-7ab1-4b5a-8101-2e381ca5e23a",
   "metadata": {},
   "outputs": [],
   "source": [
    "Nombre='Amy Gabriela riveros vargas'\n",
    "Edad=16\n",
    "Por_prog=(4+2)/(24*5)"
   ]
  },
  {
   "cell_type": "code",
   "execution_count": 5,
   "id": "3c734b75-0466-4708-ad24-48eb756c4111",
   "metadata": {},
   "outputs": [
    {
     "data": {
      "text/plain": [
       "'Mi nombre es Amy Gabriela riveros vargas,tengo 16 años y soy externadista'"
      ]
     },
     "execution_count": 5,
     "metadata": {},
     "output_type": "execute_result"
    }
   ],
   "source": [
    "texto1='Mi nombre es {},tengo {} años y soy externadista'.format(Nombre,Edad)\n",
    "texto1"
   ]
  },
  {
   "cell_type": "code",
   "execution_count": 11,
   "id": "d8eec683-0978-4c67-8262-78cae4d5165d",
   "metadata": {},
   "outputs": [
    {
     "data": {
      "text/plain": [
       "'Mi nombre es Amy Gabriela riveros vargas,tengo 16 años y soy externadista'"
      ]
     },
     "execution_count": 11,
     "metadata": {},
     "output_type": "execute_result"
    }
   ],
   "source": [
    "texto1='Mi nombre es {nombre},tengo {edad} años y soy externadista'.format(nombre=Nombre,edad=Edad)\n",
    "texto1"
   ]
  },
  {
   "cell_type": "code",
   "execution_count": 13,
   "id": "84d594ff-ed84-43d7-9a0f-66b963b3b817",
   "metadata": {},
   "outputs": [
    {
     "data": {
      "text/plain": [
       "'Mi nombre es Amy Gabriela riveros vargas, tengo 16 años, soy externadista y dedico el 5.00% de mi semana a programacion'"
      ]
     },
     "execution_count": 13,
     "metadata": {},
     "output_type": "execute_result"
    }
   ],
   "source": [
    "texto2='Mi nombre es {nombre}, tengo {edad} años, soy externadista y dedico el {porcentaje:.2%} de mi semana a programacion'.format(nombre=Nombre,edad=Edad,porcentaje=Por_prog)\n",
    "texto2"
   ]
  },
  {
   "cell_type": "code",
   "execution_count": 22,
   "id": "f9b0b5ac-0fb4-4ddc-9e56-73328420321a",
   "metadata": {},
   "outputs": [
    {
     "name": "stdout",
     "output_type": "stream",
     "text": [
      "Nombre=Amy Gabriela riveros vargas   \n",
      "Edad16                            \n"
     ]
    }
   ],
   "source": [
    "Texto3='Nombre={nombre:<30}\\nEdad{edad:<30}'.format(nombre=Nombre,edad=Edad)\n",
    "print(Texto3)"
   ]
  },
  {
   "cell_type": "code",
   "execution_count": 21,
   "id": "1c59cb41-f731-441c-ac22-9e5b4a0e6545",
   "metadata": {},
   "outputs": [
    {
     "name": "stdout",
     "output_type": "stream",
     "text": [
      "Amy Gabriela riveros vargas   :Nombre\n",
      "16                            :Edad\n"
     ]
    }
   ],
   "source": [
    "Texto3='{nombre:<30}:Nombre\\n{edad:<30}:Edad'.format(nombre=Nombre,edad=Edad)\n",
    "print(Texto3)"
   ]
  },
  {
   "cell_type": "code",
   "execution_count": 25,
   "id": "6524ce18-c29c-43fa-bbc8-e3f1aa98d0ae",
   "metadata": {},
   "outputs": [
    {
     "name": "stdout",
     "output_type": "stream",
     "text": [
      " Amy Gabriela riveros vargas  \n",
      "              16              \n"
     ]
    }
   ],
   "source": [
    "Texto4='{nombre:^30}\\n{edad:^30}'.format(nombre=Nombre,edad=Edad)\n",
    "print(Texto4)\n",
    "                                         "
   ]
  },
  {
   "cell_type": "code",
   "execution_count": 26,
   "id": "fc798747-6426-460b-9f7b-845bdf8cd7a1",
   "metadata": {},
   "outputs": [
    {
     "name": "stdout",
     "output_type": "stream",
     "text": [
      "El boleto para Bad Bunny valió $22,000,000\n"
     ]
    }
   ],
   "source": [
    "Texto5='El boleto para Bad Bunny valió ${boleto:,}'.format(boleto=22000000)\n",
    "print(Texto5)"
   ]
  },
  {
   "cell_type": "code",
   "execution_count": 27,
   "id": "6583a07c-b1a9-44f9-a357-6088be6eaae3",
   "metadata": {},
   "outputs": [
    {
     "name": "stdout",
     "output_type": "stream",
     "text": [
      "En binario tengo 10000\n"
     ]
    }
   ],
   "source": [
    "Texto6='En binario tengo {edad:b}'.format(edad=Edad)\n",
    "print(Texto6)"
   ]
  },
  {
   "cell_type": "markdown",
   "id": "3756cd1b-9c76-4b01-87bc-9f42f7e0274e",
   "metadata": {},
   "source": [
    "# Más métodos de cadenas de caractéres\n",
    "\n",
    "Veamos una lista de métodos e intentemos definir que hace cada una:"
   ]
  },
  {
   "cell_type": "code",
   "execution_count": 29,
   "id": "c6304aa8-114f-49b8-ae4a-921f76340c3f",
   "metadata": {},
   "outputs": [
    {
     "name": "stdout",
     "output_type": "stream",
     "text": [
      "Hola\n"
     ]
    }
   ],
   "source": [
    "Texto7='hola'.capitalize() # pone mayúscula inicial\n",
    "print(Texto7)"
   ]
  },
  {
   "cell_type": "code",
   "execution_count": 30,
   "id": "8736d6f9-b0cd-4632-a2a1-fbea11e74d93",
   "metadata": {},
   "outputs": [
    {
     "name": "stdout",
     "output_type": "stream",
     "text": [
      "en el bosque de la china la chinita se perdio\n"
     ]
    }
   ],
   "source": [
    "Texto8='En el bosque de la china la chinita se PERDIO'.casefold()\n",
    "print(Texto8)"
   ]
  },
  {
   "cell_type": "markdown",
   "id": "18e89129-67fc-4087-85f2-74b56f6271c4",
   "metadata": {},
   "source": [
    "Pone todo en miniscula"
   ]
  },
  {
   "cell_type": "code",
   "execution_count": 31,
   "id": "95287365-d70f-4d3b-8c62-ffe8e5d2a81f",
   "metadata": {},
   "outputs": [
    {
     "name": "stdout",
     "output_type": "stream",
     "text": [
      "EN EL MONTE DE LA CHINA LA CHINITA SE PERDIO\n"
     ]
    }
   ],
   "source": [
    "Texto9='En el monte de la china la chinita se perdio'.upper()\n",
    "print(Texto9)"
   ]
  },
  {
   "cell_type": "code",
   "execution_count": 32,
   "id": "993536fd-dc5d-4d01-a1e6-7b0f96c2156b",
   "metadata": {},
   "outputs": [
    {
     "name": "stdout",
     "output_type": "stream",
     "text": [
      "en el bosque de la china la chinita se perdio\n"
     ]
    }
   ],
   "source": [
    "Texto10='En el bosque de la china la chinita se PERDIO'.lower()\n",
    "print(Texto10)"
   ]
  },
  {
   "cell_type": "code",
   "execution_count": 33,
   "id": "f0670886-4deb-4f11-b923-2351c76c6c78",
   "metadata": {},
   "outputs": [
    {
     "name": "stdout",
     "output_type": "stream",
     "text": [
      "En el Monte de lx-x chinx-x lx-x chinitx-x se PErdio\n"
     ]
    }
   ],
   "source": [
    "Texto11='En el Monte de la china la chinita se PErdio'.replace('a','x-x')\n",
    "print(Texto11)"
   ]
  },
  {
   "cell_type": "code",
   "execution_count": 34,
   "id": "8f6b22ea-4da5-4459-acbd-e11c039e7bff",
   "metadata": {},
   "outputs": [
    {
     "name": "stdout",
     "output_type": "stream",
     "text": [
      "eN EL mONTE DE LA CHINA LA CHINITA SE peRDIO\n"
     ]
    }
   ],
   "source": [
    "Texto12='En el Monte de la china la chinita se PErdio'.swapcase()\n",
    "print(Texto12)"
   ]
  },
  {
   "cell_type": "code",
   "execution_count": 36,
   "id": "371b9dfd-d3f8-4371-8e58-4d3c2024a5b2",
   "metadata": {},
   "outputs": [
    {
     "name": "stdout",
     "output_type": "stream",
     "text": [
      "                            En el Monte de la china la chinita se PErdio                            \n"
     ]
    }
   ],
   "source": [
    "Texto13='En el Monte de la china la chinita se PErdio'.center(100)\n",
    "print(Texto13)"
   ]
  },
  {
   "cell_type": "markdown",
   "id": "bf9052c9-bffe-4bc6-8114-32a5fdeff95c",
   "metadata": {},
   "source": [
    "Otros métodos:"
   ]
  },
  {
   "cell_type": "code",
   "execution_count": 37,
   "id": "10247591-f20a-4c5c-8d53-c7056ccb1b93",
   "metadata": {},
   "outputs": [
    {
     "name": "stdout",
     "output_type": "stream",
     "text": [
      "2\n"
     ]
    }
   ],
   "source": [
    "x1='Las bananas son ricas en potacio'.count('an')\n",
    "print(x1)"
   ]
  },
  {
   "cell_type": "code",
   "execution_count": 39,
   "id": "4b9005d1-0361-4c84-a2b5-2ad8baa8baa0",
   "metadata": {},
   "outputs": [
    {
     "name": "stdout",
     "output_type": "stream",
     "text": [
      "34\n"
     ]
    }
   ],
   "source": [
    "x2='''Los estrenos más importantes de Netflix en 2022\n",
    "Netflix anunció las películas que estrenará a lo largo de 2022, y sorprendió la cantidad de súper estrellas que las protagonizarán. Hay filmes con: Ryan Reynolds, Jennifer Lopez, Gael García Bernal, Adam Sandler, Ryan Gosling, Chris Hemsworth, Jamie Foxx, Lindsay Lohan y más. En esta galería te contamos cuáles son esas películas y de qué se tratan.'''.count('a')\n",
    "print(x2)"
   ]
  },
  {
   "cell_type": "code",
   "execution_count": 40,
   "id": "c8e324fb-6057-473b-9fa2-05ce8cf129f9",
   "metadata": {},
   "outputs": [
    {
     "name": "stdout",
     "output_type": "stream",
     "text": [
      "13\n"
     ]
    }
   ],
   "source": [
    "x3='El externado parece Monserrate por las escaleras'.find('parece')\n",
    "print(x3)"
   ]
  },
  {
   "cell_type": "code",
   "execution_count": 41,
   "id": "62b1920e-7a90-4667-856d-e352040e6489",
   "metadata": {},
   "outputs": [
    {
     "name": "stdout",
     "output_type": "stream",
     "text": [
      "3\n"
     ]
    }
   ],
   "source": [
    "x4='El externado parece Monserrate por las escaleras'.find('externado')\n",
    "print(x4)"
   ]
  },
  {
   "cell_type": "code",
   "execution_count": 42,
   "id": "b437f7ef-9676-44d4-bc12-6bb24cfac7ea",
   "metadata": {},
   "outputs": [
    {
     "name": "stdout",
     "output_type": "stream",
     "text": [
      "39\n"
     ]
    }
   ],
   "source": [
    "x5='El externado parece Monserrate por las escaleras'.find('escaleras')\n",
    "print(x5)"
   ]
  },
  {
   "cell_type": "markdown",
   "id": "d3d07ebb-9f71-4729-b988-b5beed0c4842",
   "metadata": {},
   "source": [
    "(find) Es para indicar la pocisión en la que inicia la palabra."
   ]
  },
  {
   "cell_type": "markdown",
   "id": "42bde9eb-d720-4ba7-9ada-a3e28d737a55",
   "metadata": {},
   "source": [
    "En python los textos son arreglos, o más bien secuencias ordenadas de caracteres.\n",
    "Cada texto tiene un orden según la aparición de cada caracter."
   ]
  },
  {
   "cell_type": "code",
   "execution_count": 46,
   "id": "01a5348e-df2b-4151-a72e-aeb3fda47b2d",
   "metadata": {},
   "outputs": [],
   "source": [
    "texto_normal='0123456789'"
   ]
  },
  {
   "cell_type": "code",
   "execution_count": 47,
   "id": "9e21c769-2c66-47b2-9233-35c392619d1d",
   "metadata": {},
   "outputs": [
    {
     "data": {
      "text/plain": [
       "'0'"
      ]
     },
     "execution_count": 47,
     "metadata": {},
     "output_type": "execute_result"
    }
   ],
   "source": [
    "texto_normal[0] #identifico a cada caracter en esa lista o arreglo con paréntesis cuadrados"
   ]
  },
  {
   "cell_type": "code",
   "execution_count": 48,
   "id": "5966ebb1-27a2-4e0b-9288-e128bbaf521f",
   "metadata": {},
   "outputs": [
    {
     "data": {
      "text/plain": [
       "'4'"
      ]
     },
     "execution_count": 48,
     "metadata": {},
     "output_type": "execute_result"
    }
   ],
   "source": [
    "texto_normal[4]"
   ]
  },
  {
   "cell_type": "code",
   "execution_count": 49,
   "id": "8e8ec668-5649-4fab-9097-90455b185efb",
   "metadata": {},
   "outputs": [
    {
     "data": {
      "text/plain": [
       "'0123'"
      ]
     },
     "execution_count": 49,
     "metadata": {},
     "output_type": "execute_result"
    }
   ],
   "source": [
    "texto_normal[0:4] # Los dos valores esparados por dos puntos indican un rango en el texto, inicia en el primero y termina antes que el segunndo"
   ]
  },
  {
   "cell_type": "code",
   "execution_count": 53,
   "id": "1555e38a-ed36-481b-b497-4353cda0762d",
   "metadata": {},
   "outputs": [
    {
     "data": {
      "text/plain": [
       "'2345678'"
      ]
     },
     "execution_count": 53,
     "metadata": {},
     "output_type": "execute_result"
    }
   ],
   "source": [
    "texto_normal[2:9]"
   ]
  },
  {
   "cell_type": "code",
   "execution_count": 51,
   "id": "2b439f25-36b8-40d2-b6ea-dc8492fad53c",
   "metadata": {},
   "outputs": [],
   "source": [
    "texto='colombia verá qatar 2022 desde la sal de la casa'"
   ]
  },
  {
   "cell_type": "code",
   "execution_count": 52,
   "id": "05a41f71-e46f-4332-b86d-aaa87b80cb5b",
   "metadata": {},
   "outputs": [
    {
     "data": {
      "text/plain": [
       "' verá qatar 2022 '"
      ]
     },
     "execution_count": 52,
     "metadata": {},
     "output_type": "execute_result"
    }
   ],
   "source": [
    "texto[8:25]"
   ]
  },
  {
   "cell_type": "markdown",
   "id": "06d11f80-a85e-421c-8f54-2dea6d091e4f",
   "metadata": {},
   "source": [
    "### Función `input`"
   ]
  },
  {
   "cell_type": "code",
   "execution_count": 54,
   "id": "8e60f409-f3cc-4ac4-8efb-02b147368f20",
   "metadata": {},
   "outputs": [
    {
     "name": "stdin",
     "output_type": "stream",
     "text": [
      "Un texto de para mirar función input 88\n"
     ]
    },
    {
     "name": "stdout",
     "output_type": "stream",
     "text": [
      "88\n",
      "<class 'str'>\n"
     ]
    }
   ],
   "source": [
    "txt=input('Un texto para mirar función input')\n",
    "print(txt)\n",
    "print(type(txt))"
   ]
  },
  {
   "cell_type": "markdown",
   "id": "1a3e2530-bc9a-47a8-be16-9745be921e0a",
   "metadata": {},
   "source": [
    "Claramente `input` permite que el usuario pueda ingresar texto, ese texto siempre se guardará como cadena de caracteres y si se quiera cambiar debe utilizarse una función adecuada:"
   ]
  },
  {
   "cell_type": "code",
   "execution_count": 56,
   "id": "5aefae5f-2449-425e-b56f-6db60c59c7d7",
   "metadata": {},
   "outputs": [
    {
     "name": "stdin",
     "output_type": "stream",
     "text": [
      "Ingrese su nombre: Amy Riveros\n",
      "Ingrese su edad: 16\n"
     ]
    },
    {
     "name": "stdout",
     "output_type": "stream",
     "text": [
      "En el 2023 Amy Riveros, tendrá 17 años\n"
     ]
    }
   ],
   "source": [
    "txt=input('Ingrese su nombre:')\n",
    "age=input('Ingrese su edad:')\n",
    "age=int(age)\n",
    "print('En el 2023 {nombre}, tendrá {edad} años'.format(nombre=txt,edad=age+1))"
   ]
  },
  {
   "cell_type": "code",
   "execution_count": null,
   "id": "d52d2011-85b9-4737-8d33-64728d45cd37",
   "metadata": {},
   "outputs": [],
   "source": []
  }
 ],
 "metadata": {
  "kernelspec": {
   "display_name": "Python 3 (ipykernel)",
   "language": "python",
   "name": "python3"
  },
  "language_info": {
   "codemirror_mode": {
    "name": "ipython",
    "version": 3
   },
   "file_extension": ".py",
   "mimetype": "text/x-python",
   "name": "python",
   "nbconvert_exporter": "python",
   "pygments_lexer": "ipython3",
   "version": "3.9.7"
  }
 },
 "nbformat": 4,
 "nbformat_minor": 5
}
