{
 "cells": [
  {
   "cell_type": "markdown",
   "id": "7e4e281b",
   "metadata": {},
   "source": [
    "## Algoritmos\n"
   ]
  },
  {
   "cell_type": "code",
   "execution_count": 1,
   "id": "d212e411",
   "metadata": {},
   "outputs": [
    {
     "name": "stdout",
     "output_type": "stream",
     "text": [
      "The Zen of Python, by Tim Peters\n",
      "\n",
      "Beautiful is better than ugly.\n",
      "Explicit is better than implicit.\n",
      "Simple is better than complex.\n",
      "Complex is better than complicated.\n",
      "Flat is better than nested.\n",
      "Sparse is better than dense.\n",
      "Readability counts.\n",
      "Special cases aren't special enough to break the rules.\n",
      "Although practicality beats purity.\n",
      "Errors should never pass silently.\n",
      "Unless explicitly silenced.\n",
      "In the face of ambiguity, refuse the temptation to guess.\n",
      "There should be one-- and preferably only one --obvious way to do it.\n",
      "Although that way may not be obvious at first unless you're Dutch.\n",
      "Now is better than never.\n",
      "Although never is often better than *right* now.\n",
      "If the implementation is hard to explain, it's a bad idea.\n",
      "If the implementation is easy to explain, it may be a good idea.\n",
      "Namespaces are one honking great idea -- let's do more of those!\n"
     ]
    }
   ],
   "source": [
    "import this\n"
   ]
  },
  {
   "cell_type": "markdown",
   "id": "205321da",
   "metadata": {},
   "source": [
    "## Variables\n",
    "\n",
    "Empezaremos hablando de algunas instrucciones elementales de Python, crearemos nuestros primeros programas, también llamdos scripts que posteriormente serán interpretados. Mencionaremos algunos tipos elementales de datos y los guardaremos en un espacio de memoría mediante variables para transformarlos y generar nueva información.\n",
    "\n",
    "veamos algunos tipos de datos e interatuemos\n"
   ]
  },
  {
   "cell_type": "code",
   "execution_count": 2,
   "id": "757f2aa9",
   "metadata": {},
   "outputs": [
    {
     "data": {
      "text/plain": [
       "8"
      ]
     },
     "execution_count": 2,
     "metadata": {},
     "output_type": "execute_result"
    }
   ],
   "source": [
    "## Numeros enteros\n",
    "\n",
    "8"
   ]
  },
  {
   "cell_type": "code",
   "execution_count": 3,
   "id": "79dbae5f",
   "metadata": {},
   "outputs": [
    {
     "ename": "SyntaxError",
     "evalue": "invalid syntax (Temp/ipykernel_16320/872620628.py, line 1)",
     "output_type": "error",
     "traceback": [
      "\u001b[1;36m  File \u001b[1;32m\"C:\\Users\\SALACO~1\\AppData\\Local\\Temp/ipykernel_16320/872620628.py\"\u001b[1;36m, line \u001b[1;32m1\u001b[0m\n\u001b[1;33m    type 8\u001b[0m\n\u001b[1;37m         ^\u001b[0m\n\u001b[1;31mSyntaxError\u001b[0m\u001b[1;31m:\u001b[0m invalid syntax\n"
     ]
    }
   ],
   "source": [
    "type 8"
   ]
  },
  {
   "cell_type": "code",
   "execution_count": 4,
   "id": "449ff9ba",
   "metadata": {},
   "outputs": [
    {
     "data": {
      "text/plain": [
       "int"
      ]
     },
     "execution_count": 4,
     "metadata": {},
     "output_type": "execute_result"
    }
   ],
   "source": [
    "type(8)"
   ]
  },
  {
   "cell_type": "code",
   "execution_count": 5,
   "id": "e0ec738f",
   "metadata": {},
   "outputs": [
    {
     "data": {
      "text/plain": [
       "3.5"
      ]
     },
     "execution_count": 5,
     "metadata": {},
     "output_type": "execute_result"
    }
   ],
   "source": [
    "## Decimaless\n",
    "\n",
    "3.5"
   ]
  },
  {
   "cell_type": "code",
   "execution_count": 6,
   "id": "b83bc33b",
   "metadata": {},
   "outputs": [
    {
     "data": {
      "text/plain": [
       "float"
      ]
     },
     "execution_count": 6,
     "metadata": {},
     "output_type": "execute_result"
    }
   ],
   "source": [
    "type(3.5)"
   ]
  },
  {
   "cell_type": "code",
   "execution_count": 7,
   "id": "1f2267ee",
   "metadata": {},
   "outputs": [
    {
     "data": {
      "text/plain": [
       "-2.5"
      ]
     },
     "execution_count": 7,
     "metadata": {},
     "output_type": "execute_result"
    }
   ],
   "source": [
    "## Ruecuerde que los numeros negativos existen\n",
    "-2.5"
   ]
  },
  {
   "cell_type": "code",
   "execution_count": 8,
   "id": "b6df61cf",
   "metadata": {},
   "outputs": [
    {
     "data": {
      "text/plain": [
       "float"
      ]
     },
     "execution_count": 8,
     "metadata": {},
     "output_type": "execute_result"
    }
   ],
   "source": [
    "type (-2.5)"
   ]
  },
  {
   "cell_type": "code",
   "execution_count": 9,
   "id": "527f80b9",
   "metadata": {},
   "outputs": [
    {
     "data": {
      "text/plain": [
       "int"
      ]
     },
     "execution_count": 9,
     "metadata": {},
     "output_type": "execute_result"
    }
   ],
   "source": [
    "type (-15)"
   ]
  },
  {
   "cell_type": "markdown",
   "id": "be3d47a7",
   "metadata": {},
   "source": [
    "Los numeros interactuan con nosotros de distintas maneras , pero la mas importante es atraves de sus operaciones"
   ]
  },
  {
   "cell_type": "code",
   "execution_count": 10,
   "id": "4ae5932c",
   "metadata": {},
   "outputs": [
    {
     "data": {
      "text/plain": [
       "7"
      ]
     },
     "execution_count": 10,
     "metadata": {},
     "output_type": "execute_result"
    }
   ],
   "source": [
    "## suma\n",
    "3+4"
   ]
  },
  {
   "cell_type": "code",
   "execution_count": 11,
   "id": "82b0e0a4",
   "metadata": {},
   "outputs": [
    {
     "data": {
      "text/plain": [
       "7.2"
      ]
     },
     "execution_count": 11,
     "metadata": {},
     "output_type": "execute_result"
    }
   ],
   "source": [
    "3.2+4"
   ]
  },
  {
   "cell_type": "code",
   "execution_count": 12,
   "id": "464a18c3",
   "metadata": {},
   "outputs": [
    {
     "data": {
      "text/plain": [
       "float"
      ]
     },
     "execution_count": 12,
     "metadata": {},
     "output_type": "execute_result"
    }
   ],
   "source": [
    "type(3.2+4)"
   ]
  },
  {
   "cell_type": "code",
   "execution_count": 13,
   "id": "d7cec50c",
   "metadata": {},
   "outputs": [
    {
     "data": {
      "text/plain": [
       "-6"
      ]
     },
     "execution_count": 13,
     "metadata": {},
     "output_type": "execute_result"
    }
   ],
   "source": [
    "## resta \n",
    "\n",
    "2-8"
   ]
  },
  {
   "cell_type": "code",
   "execution_count": 14,
   "id": "30ade5fe",
   "metadata": {},
   "outputs": [
    {
     "data": {
      "text/plain": [
       "6"
      ]
     },
     "execution_count": 14,
     "metadata": {},
     "output_type": "execute_result"
    }
   ],
   "source": [
    "8-2"
   ]
  },
  {
   "cell_type": "code",
   "execution_count": 15,
   "id": "3514372a",
   "metadata": {},
   "outputs": [
    {
     "data": {
      "text/plain": [
       "72"
      ]
     },
     "execution_count": 15,
     "metadata": {},
     "output_type": "execute_result"
    }
   ],
   "source": [
    "## multiplicacion \n",
    "\n",
    "8*9"
   ]
  },
  {
   "cell_type": "code",
   "execution_count": 16,
   "id": "21d0f5b2",
   "metadata": {},
   "outputs": [
    {
     "data": {
      "text/plain": [
       "6.0"
      ]
     },
     "execution_count": 16,
     "metadata": {},
     "output_type": "execute_result"
    }
   ],
   "source": [
    "## division \n",
    "36/6"
   ]
  },
  {
   "cell_type": "code",
   "execution_count": 17,
   "id": "9dcfc78f",
   "metadata": {},
   "outputs": [
    {
     "ename": "ZeroDivisionError",
     "evalue": "division by zero",
     "output_type": "error",
     "traceback": [
      "\u001b[1;31m---------------------------------------------------------------------------\u001b[0m",
      "\u001b[1;31mZeroDivisionError\u001b[0m                         Traceback (most recent call last)",
      "\u001b[1;32mC:\\Users\\SALACO~1\\AppData\\Local\\Temp/ipykernel_16320/600699680.py\u001b[0m in \u001b[0;36m<module>\u001b[1;34m\u001b[0m\n\u001b[1;32m----> 1\u001b[1;33m \u001b[1;36m8\u001b[0m\u001b[1;33m/\u001b[0m\u001b[1;36m0\u001b[0m\u001b[1;33m\u001b[0m\u001b[1;33m\u001b[0m\u001b[0m\n\u001b[0m",
      "\u001b[1;31mZeroDivisionError\u001b[0m: division by zero"
     ]
    }
   ],
   "source": [
    "8/0"
   ]
  },
  {
   "cell_type": "code",
   "execution_count": 20,
   "id": "c48ab824",
   "metadata": {},
   "outputs": [
    {
     "name": "stdout",
     "output_type": "stream",
     "text": [
      "24\n",
      "3\n",
      "49\n",
      "0.5\n",
      "3.0\n"
     ]
    }
   ],
   "source": [
    "print (8+16)\n",
    "print (6-3)\n",
    "print (7*7)\n",
    "print (1/2)\n",
    "print (6/2)"
   ]
  },
  {
   "cell_type": "code",
   "execution_count": 21,
   "id": "d2011fdb",
   "metadata": {},
   "outputs": [
    {
     "data": {
      "text/plain": [
       "8"
      ]
     },
     "execution_count": 21,
     "metadata": {},
     "output_type": "execute_result"
    }
   ],
   "source": [
    "#Potencia\n",
    "\n",
    "2**3"
   ]
  },
  {
   "cell_type": "code",
   "execution_count": 23,
   "id": "713dc4c3",
   "metadata": {},
   "outputs": [
    {
     "data": {
      "text/plain": [
       "5.0"
      ]
     },
     "execution_count": 23,
     "metadata": {},
     "output_type": "execute_result"
    }
   ],
   "source": [
    "# raices (potencias de fracciones)\n",
    "25**(1/2)"
   ]
  },
  {
   "cell_type": "code",
   "execution_count": 24,
   "id": "83bed0b2",
   "metadata": {},
   "outputs": [
    {
     "data": {
      "text/plain": [
       "6"
      ]
     },
     "execution_count": 24,
     "metadata": {},
     "output_type": "execute_result"
    }
   ],
   "source": [
    "## Division entera (cociente)\n",
    "20//3"
   ]
  },
  {
   "cell_type": "code",
   "execution_count": 25,
   "id": "aee26405",
   "metadata": {},
   "outputs": [
    {
     "data": {
      "text/plain": [
       "2"
      ]
     },
     "execution_count": 25,
     "metadata": {},
     "output_type": "execute_result"
    }
   ],
   "source": [
    "## division entera (residual)\n",
    "20%3"
   ]
  },
  {
   "cell_type": "code",
   "execution_count": 26,
   "id": "848be381",
   "metadata": {},
   "outputs": [
    {
     "data": {
      "text/plain": [
       "30.0"
      ]
     },
     "execution_count": 26,
     "metadata": {},
     "output_type": "execute_result"
    }
   ],
   "source": [
    "0.15*200 # Aqui calculamos el 15% de 200. cuidado con el operador residuo (%)"
   ]
  },
  {
   "cell_type": "code",
   "execution_count": 27,
   "id": "fd5b121f",
   "metadata": {},
   "outputs": [
    {
     "data": {
      "text/plain": [
       "80.45"
      ]
     },
     "execution_count": 27,
     "metadata": {},
     "output_type": "execute_result"
    }
   ],
   "source": [
    "0.45+80 # Aqui calculamos el 45% de 80. cuidado con el operador residu(%)"
   ]
  },
  {
   "cell_type": "markdown",
   "id": "1fcb2c7e",
   "metadata": {},
   "source": [
    "### Cadenas de caracteres o strings \n",
    "\n",
    "Corresponde a las cadenas de texto, para evitar confusion con las funciones y/o varibles dee Phyethon se almacena entre comillas dobles o simples"
   ]
  },
  {
   "cell_type": "code",
   "execution_count": 28,
   "id": "694c3184",
   "metadata": {},
   "outputs": [
    {
     "data": {
      "text/plain": [
       "'Hola Externadista'"
      ]
     },
     "execution_count": 28,
     "metadata": {},
     "output_type": "execute_result"
    }
   ],
   "source": [
    "\"Hola Externadista\""
   ]
  },
  {
   "cell_type": "code",
   "execution_count": 29,
   "id": "ca59c479",
   "metadata": {},
   "outputs": [
    {
     "name": "stdout",
     "output_type": "stream",
     "text": [
      "Hola Externadista\n"
     ]
    }
   ],
   "source": [
    "print('Hola Externadista')"
   ]
  },
  {
   "cell_type": "code",
   "execution_count": 30,
   "id": "14b46c2e",
   "metadata": {},
   "outputs": [
    {
     "data": {
      "text/plain": [
       "'Hola----Externado'"
      ]
     },
     "execution_count": 30,
     "metadata": {},
     "output_type": "execute_result"
    }
   ],
   "source": [
    "# operaciones entre textos (suma- concatenacion)\n",
    "\n",
    "\"Hola\"+\"----\"+\"Externado\""
   ]
  },
  {
   "cell_type": "code",
   "execution_count": 32,
   "id": "abcef4e5",
   "metadata": {},
   "outputs": [
    {
     "data": {
      "text/plain": [
       "str"
      ]
     },
     "execution_count": 32,
     "metadata": {},
     "output_type": "execute_result"
    }
   ],
   "source": [
    "type(\"Hola Externadista\")"
   ]
  },
  {
   "cell_type": "markdown",
   "id": "56af1816",
   "metadata": {},
   "source": [
    "## Variables \n",
    "\n",
    "Sirven para guardar informaacion en Phython, trabajan de la siguiente manera:\n",
    "\n",
    "[Nombre_Variable]=[Valor_de_la_Variable]"
   ]
  },
  {
   "cell_type": "code",
   "execution_count": 31,
   "id": "27205111",
   "metadata": {},
   "outputs": [],
   "source": [
    "x=20"
   ]
  },
  {
   "cell_type": "code",
   "execution_count": null,
   "id": "5c3c170d",
   "metadata": {},
   "outputs": [],
   "source": []
  }
 ],
 "metadata": {
  "kernelspec": {
   "display_name": "Python 3 (ipykernel)",
   "language": "python",
   "name": "python3"
  },
  "language_info": {
   "codemirror_mode": {
    "name": "ipython",
    "version": 3
   },
   "file_extension": ".py",
   "mimetype": "text/x-python",
   "name": "python",
   "nbconvert_exporter": "python",
   "pygments_lexer": "ipython3",
   "version": "3.9.7"
  }
 },
 "nbformat": 4,
 "nbformat_minor": 5
}
