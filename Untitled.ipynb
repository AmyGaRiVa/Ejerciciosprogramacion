{
 "cells": [
  {
   "cell_type": "markdown",
   "id": "d76d5523-a7d2-4ee1-9c8b-adf3267189fb",
   "metadata": {},
   "source": [
    " ## De ti hace un año"
   ]
  },
  {
   "cell_type": "code",
   "execution_count": 25,
   "id": "354b02d0-4159-4c3d-8819-d6c3dc3e5286",
   "metadata": {},
   "outputs": [
    {
     "name": "stdin",
     "output_type": "stream",
     "text": [
      "Escriba su nombre: h\n",
      "Escriba su edad: 47\n"
     ]
    },
    {
     "name": "stdout",
     "output_type": "stream",
     "text": [
      "                                                                                               10/02/2022                                                                                               \n",
      "Estimad@ h\n",
      "Hoy a tus 48 años deseo que todo mejore y te siga llenando de suerte. Que puedas encontrar lo que tanto buscabas, reir y llorar.Ánimo y que todo siga mejorando a pesar de las  dificultades. Aprende muchos códigos y no te estreses tanto, es malo para la salud .Te pido que disfrutes lo que puedas tu vida, aprovecha las oportunidades que van apareciendo;busca ayudar a los que amas  que no se te olvide porque  los amas y quieres dar todo por ellos. Siguete enamorando y amando, incluso preocupando a cerca de lo que pasa al rededor. No dejes que tu escencia se pierda. Sigue avanzando que tu puedes   con eso y más. Estoy orgullosa de ti.\n"
     ]
    }
   ],
   "source": [
    "txt=input('Escriba su nombre:')\n",
    "age=input('Escriba su edad:')\n",
    "age=int(age)\n",
    "\n",
    "texto='10/02/2022'.center(200)\n",
    "print(texto)\n",
    "\n",
    "\n",
    "\n",
    "print(\"Estimad@ {nombre}\".format(nombre=txt))\n",
    "      \n",
    "      \n",
    "print(\"Hoy a tus {edad} años deseo que todo mejore y te siga llenando de suerte. Que puedas encontrar lo que tanto buscabas, reir y llorar.Ánimo y que todo siga mejorando a pesar de las  dificultades. Aprende muchos códigos y no te estreses tanto, es malo para la salud .Te pido que disfrutes lo que puedas tu vida, aprovecha las oportunidades que van apareciendo;busca ayudar a los que amas  que no se te olvide porque  los amas y quieres dar todo por ellos. Siguete enamorando y amando, incluso preocupando a cerca de lo que pasa al rededor. No dejes que tu escencia se pierda. Sigue avanzando que tu puedes   con eso y más. Estoy orgullosa de ti.\".format(edad=age+1))"
   ]
  }
 ],
 "metadata": {
  "kernelspec": {
   "display_name": "Python 3 (ipykernel)",
   "language": "python",
   "name": "python3"
  },
  "language_info": {
   "codemirror_mode": {
    "name": "ipython",
    "version": 3
   },
   "file_extension": ".py",
   "mimetype": "text/x-python",
   "name": "python",
   "nbconvert_exporter": "python",
   "pygments_lexer": "ipython3",
   "version": "3.9.7"
  }
 },
 "nbformat": 4,
 "nbformat_minor": 5
}
