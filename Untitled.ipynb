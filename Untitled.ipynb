{
 "cells": [
  {
   "cell_type": "markdown",
   "id": "96a86177-75e1-45c2-8eb2-6462dfc12143",
   "metadata": {},
   "source": [
    "## Carta al futuro"
   ]
  },
  {
   "cell_type": "code",
   "execution_count": 37,
   "id": "802e4f59-6d75-435f-a841-61c8fbce4cd2",
   "metadata": {},
   "outputs": [
    {
     "name": "stdin",
     "output_type": "stream",
     "text": [
      "Escribe tu nombre: nhj\n",
      "Escribe tu edad: 55\n",
      "Escribe la fecha actual: 10/2/23\n"
     ]
    },
    {
     "name": "stdout",
     "output_type": "stream",
     "text": [
      "\n",
      "Bogotá D.C/10-2-22\n",
      "\n",
      "Hola nhj, somos las estudiantes Saudith,Valentina y Amy, te saludamos hoy 10/2/23 y nuestro mensaje es: esperamos tengas mucha suerte en tu vida, al igual que esperamos siempre puedas estar de buen ánimo. Ojala no te vayas a caer en las escaleras o te mojes mucho en aquellos dias nublados. Cada una desea que sigas vivo para el fin del mundo, Amy supone que se verá muy hermoso ese momento. En fin, buena suerte.\n"
     ]
    }
   ],
   "source": [
    "txt=input('Escribe tu nombre:')\n",
    "age=input('Escribe tu edad:')\n",
    "date=input('Escribe la fecha actual:')\n",
    "Carta= 'y nuestro mensaje es: esperamos tengas mucha suerte en tu vida, al igual que esperamos siempre puedas estar de buen ánimo. Ojala no te vayas a caer en las escaleras o te mojes mucho en aquellos dias nublados. Cada una desea que sigas vivo para el fin del mundo, Amy supone que se verá muy hermoso ese momento. En fin, buena suerte.'\n",
    "                                                                                                                                                                                                              \n",
    "print('\\nBogotá D.C/10-2-22')\n",
    "\n",
    "print('\\nHola {nombre}, somos las estudiantes Saudith,Valentina y Amy, te saludamos hoy {fecha} {carta:<20}'.format(nombre=txt,fecha=date,carta=Carta))\n",
    "print('')"
   ]
  },
  {
   "cell_type": "code",
   "execution_count": null,
   "id": "df63ef23-a800-4d84-9526-aee50134624c",
   "metadata": {},
   "outputs": [],
   "source": []
  }
 ],
 "metadata": {
  "kernelspec": {
   "display_name": "Python 3 (ipykernel)",
   "language": "python",
   "name": "python3"
  },
  "language_info": {
   "codemirror_mode": {
    "name": "ipython",
    "version": 3
   },
   "file_extension": ".py",
   "mimetype": "text/x-python",
   "name": "python",
   "nbconvert_exporter": "python",
   "pygments_lexer": "ipython3",
   "version": "3.9.7"
  }
 },
 "nbformat": 4,
 "nbformat_minor": 5
}
